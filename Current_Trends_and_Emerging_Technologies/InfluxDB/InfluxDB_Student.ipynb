{
 "cells": [
  {
   "cell_type": "markdown",
   "id": "8542d5c7-04b6-46e2-bbab-646baa4be063",
   "metadata": {
    "tags": []
   },
   "source": [
    "# InfluxDB"
   ]
  },
  {
   "cell_type": "code",
   "execution_count": null,
   "id": "486b4bca-6e28-4277-86f0-756ad92d51f5",
   "metadata": {},
   "outputs": [],
   "source": [
    "!pip install influxdb-client"
   ]
  },
  {
   "cell_type": "code",
   "execution_count": null,
   "id": "a400f699-de9f-490b-9a78-405fc0e690e8",
   "metadata": {},
   "outputs": [],
   "source": [
    "!pip3 install --upgrade influxdb-client"
   ]
  },
  {
   "cell_type": "code",
   "execution_count": null,
   "id": "c5d97c52-0e7b-4e6c-b69f-a9e391b733f0",
   "metadata": {},
   "outputs": [],
   "source": [
    "from influxdb_client   import InfluxDBClient, BucketRetentionRules,WritePrecision\n",
    "import influxdb_client"
   ]
  },
  {
   "cell_type": "code",
   "execution_count": null,
   "id": "e3ced6af-da31-4503-9107-51e778fa4336",
   "metadata": {},
   "outputs": [],
   "source": [
    "import random"
   ]
  },
  {
   "cell_type": "code",
   "execution_count": null,
   "id": "bc01ea62-f7b0-4066-ad23-70497427f01e",
   "metadata": {},
   "outputs": [],
   "source": [
    "import time"
   ]
  },
  {
   "cell_type": "code",
   "execution_count": null,
   "id": "e0eb80c7-2b8f-4b42-9294-fd5dfb4aba51",
   "metadata": {},
   "outputs": [],
   "source": [
    "import pandas as pd"
   ]
  },
  {
   "cell_type": "markdown",
   "id": "6ce95480-14f4-4cd3-8e0a-fbe25fa72720",
   "metadata": {},
   "source": [
    "## Create a Client Object"
   ]
  },
  {
   "cell_type": "code",
   "execution_count": null,
   "id": "4bd4078d-139b-4406-acd4-e64b3d1fecf2",
   "metadata": {},
   "outputs": [],
   "source": [
    "client = InfluxDBClient(url=\"http://localhost:8086\", token= \"my_password\", org=\"primary\")"
   ]
  },
  {
   "cell_type": "code",
   "execution_count": null,
   "id": "9afc3606-b421-4534-8152-98ac9729e3bf",
   "metadata": {},
   "outputs": [],
   "source": [
    "def myprint(table):\n",
    "    for table in tables:\n",
    "        print(table)\n",
    "        for row in table.records:\n",
    "            print (row.values)"
   ]
  },
  {
   "cell_type": "markdown",
   "id": "55988f7c-1ca6-4445-b070-02a835cba02a",
   "metadata": {},
   "source": [
    "# Bucket"
   ]
  },
  {
   "cell_type": "code",
   "execution_count": null,
   "id": "71fb08d9-0208-4488-bb69-3a899cee137c",
   "metadata": {},
   "outputs": [],
   "source": [
    "bucket_api=client.buckets_api()"
   ]
  },
  {
   "cell_type": "code",
   "execution_count": null,
   "id": "f07618d0-2ec5-423c-8da0-097367e3bd56",
   "metadata": {},
   "outputs": [],
   "source": [
    "bucket_api.create_bucket(bucket_name=\"myFirstBucket\",org_id=\"primary\",retention_rules=[BucketRetentionRules(every_seconds=60*60)])  #create bucket with retention rule"
   ]
  },
  {
   "cell_type": "markdown",
   "id": "a8e97adc-87ee-423f-aa85-5e798879ffc6",
   "metadata": {},
   "source": [
    "Minimum retention time is 1h!"
   ]
  },
  {
   "cell_type": "markdown",
   "id": "75453ed5-5f39-4778-9339-0171634d8339",
   "metadata": {},
   "source": [
    "**Cross Check now in the User Interface**"
   ]
  },
  {
   "cell_type": "markdown",
   "id": "a3c54c15-1f72-4c34-a454-2be9e1fcc812",
   "metadata": {},
   "source": [
    "# Write Data"
   ]
  },
  {
   "cell_type": "code",
   "execution_count": null,
   "id": "e98dfacd-2e18-49d8-b3c4-5f8988ec276c",
   "metadata": {},
   "outputs": [],
   "source": [
    "write_api = client.write_api()"
   ]
  },
  {
   "cell_type": "markdown",
   "id": "706e8c6e-fb9c-4fc6-9957-0bd840d5d239",
   "metadata": {},
   "source": [
    "A bucket is a named location where time series data is stored. All buckets have a retention period, a duration of time that each data point persists. InfluxDB drops all points with timestamps older than the bucket’s retention period. A bucket belongs to an organization."
   ]
  },
  {
   "cell_type": "markdown",
   "id": "ccc884a8-7898-4e92-8cb3-32b1e5402c0d",
   "metadata": {},
   "source": [
    "Syntax:\n",
    "\n",
    "```<measurement>[,<tag_key>=<tag_value>[,<tag_key>=<tag_value>]] <field_key>=<field_value>[,<field_key>=<field_value>] [<timestamp>]```"
   ]
  },
  {
   "cell_type": "code",
   "execution_count": null,
   "id": "ff3811a7-b597-4806-8c31-7fea6a69fee7",
   "metadata": {},
   "outputs": [],
   "source": [
    "write_api.write(\"myFirstBucket\", \"primary\", [\"myMeasurement,location=coyote_creek water_level=11.4\"]) # bucket, organization, measurement: h2o_feet,  location: coyote_creek"
   ]
  },
  {
   "cell_type": "markdown",
   "id": "5529f3ea-1fd8-4404-85da-81b0123fd5ac",
   "metadata": {},
   "source": [
    "measurement: h2o_feet\n",
    "\n",
    "location: coyote_creek\n",
    "\n",
    "field: water_level"
   ]
  },
  {
   "cell_type": "markdown",
   "id": "fb7d5aa1-f49c-4454-9286-6fc20a751a94",
   "metadata": {},
   "source": [
    "Add multiple filed by using `,`"
   ]
  },
  {
   "cell_type": "markdown",
   "id": "cc23128a-0fa4-4bb4-bab1-8d75b384f3ee",
   "metadata": {},
   "source": [
    "**What is a tag?**"
   ]
  },
  {
   "cell_type": "code",
   "execution_count": null,
   "id": "bafcde60-c2e3-468b-824c-2e9d9c02de67",
   "metadata": {},
   "outputs": [],
   "source": [
    "write_api.write(\"myFirstBucket\", \"primary\", [\"myMeasurement,mytag=a_tag_value temperature=2\"])  #send data with tag"
   ]
  },
  {
   "cell_type": "code",
   "execution_count": null,
   "id": "7a766e37-b06c-43fc-a28d-e3e3e366a0b9",
   "metadata": {},
   "outputs": [],
   "source": [
    "write_api.write(\"myFirstBucket\", \"primary\", [\"myMeasurement,mytag=a_tag_value temperature=12\"]) #send data with tag"
   ]
  },
  {
   "cell_type": "markdown",
   "id": "d085338b-8817-4926-bd9f-98eada45a30d",
   "metadata": {},
   "source": [
    "Attention: if sent too fast, they are aggregated!"
   ]
  },
  {
   "cell_type": "markdown",
   "id": "ff6a016e-89ea-4edf-8d3e-975075022f3e",
   "metadata": {},
   "source": [
    "Create a loop for publishing multiple data-points"
   ]
  },
  {
   "cell_type": "code",
   "execution_count": null,
   "id": "2794a68a-073b-494f-b48b-6bd9523fc8cc",
   "metadata": {},
   "outputs": [],
   "source": [
    "for i in range(1,10):\n",
    "    write_api.write(\"myFirstBucket\", \"primary\", [\"robotsensor,location=robotcell temperature={0},humidity={1}\".format(random.random()*10,random.random())])\n",
    "    time.sleep(1)"
   ]
  },
  {
   "cell_type": "markdown",
   "id": "e51902da-9789-43ea-9a39-791d2153a489",
   "metadata": {},
   "source": [
    "This is already hard to read. So the api provides a build-pattern mechanism."
   ]
  },
  {
   "cell_type": "code",
   "execution_count": null,
   "id": "5e593ac5-614f-4d10-9e36-a55694f84be3",
   "metadata": {},
   "outputs": [],
   "source": [
    "p = influxdb_client.Point(\"robotsensor\").tag(\"location\", \"robotcell\").tag(\"qos\", \"2\").field(\"temperature\", 20.)\n",
    "write_api.write(bucket=\"myFirstBucket\", org=\"primary\", record=p)"
   ]
  },
  {
   "cell_type": "markdown",
   "id": "ea856b78-9ca1-448a-9986-5d96abb16f10",
   "metadata": {},
   "source": [
    "Fields are data and tags are metadata"
   ]
  },
  {
   "cell_type": "markdown",
   "id": "dd5d86b4-3ea0-4e35-ab70-f5afb7c6166e",
   "metadata": {},
   "source": [
    "## Query"
   ]
  },
  {
   "cell_type": "code",
   "execution_count": null,
   "id": "59f5394c-ff20-4aa2-a19d-da2c5959894a",
   "metadata": {},
   "outputs": [],
   "source": [
    "query_api =client.query_api()"
   ]
  },
  {
   "cell_type": "code",
   "execution_count": null,
   "id": "48cc713c-603f-4551-9f14-8acff877d4f3",
   "metadata": {},
   "outputs": [],
   "source": [
    "tables=query_api.query('from(bucket:\"myFirstBucket\") |> range(start: -10m)')  #last 10 minutes"
   ]
  },
  {
   "cell_type": "markdown",
   "id": "562d40ea-a316-4d2b-ae3d-f00973aaf39a",
   "metadata": {},
   "source": [
    "Here, we get all fields!"
   ]
  },
  {
   "cell_type": "code",
   "execution_count": null,
   "id": "12699c59-8293-4265-8c10-4066c65104c0",
   "metadata": {},
   "outputs": [],
   "source": [
    "for table in tables:\n",
    "    print(table)\n",
    "    for row in table.records:\n",
    "        print (row.values)"
   ]
  },
  {
   "cell_type": "markdown",
   "id": "21edd354-bacf-48be-89ae-4288ffa1707d",
   "metadata": {},
   "source": [
    "**Might be hard to read: convert that to a pandas**"
   ]
  },
  {
   "cell_type": "code",
   "execution_count": null,
   "id": "dbb9aa01-b478-4525-b840-7c06c7bf1ad0",
   "metadata": {},
   "outputs": [],
   "source": [
    "query_api.query_data_frame('from(bucket:\"myFirstBucket\") |> range(start: -20m)')[0]  #last 10 minutes"
   ]
  },
  {
   "cell_type": "code",
   "execution_count": null,
   "id": "3db4ef1b-6946-47c4-b967-39f7dc3978c0",
   "metadata": {},
   "outputs": [],
   "source": [
    "import warnings\n",
    "from influxdb_client.client.warnings import MissingPivotFunction\n",
    "\n",
    "warnings.simplefilter(\"ignore\", MissingPivotFunction)"
   ]
  },
  {
   "cell_type": "markdown",
   "id": "99c0e894-1023-4a47-9119-9079901570d8",
   "metadata": {},
   "source": [
    "We get a warning, that the representation might not be optimal and pivot should be used.\n",
    "\n",
    "For the examples discussed here, we will stick to the the current setup!\n",
    "\n",
    "https://docs.influxdata.com/flux/v0.x/stdlib/universe/pivot/\n"
   ]
  },
  {
   "cell_type": "markdown",
   "id": "f23ff033-6940-4d94-8e05-641f159d9cfc",
   "metadata": {},
   "source": [
    "## Task"
   ]
  },
  {
   "cell_type": "markdown",
   "id": "654663b7-7288-489e-b77f-2ac6409d3d99",
   "metadata": {},
   "source": [
    "Publish to a new measurement `robot` two fields `joint1` and `joint2` with arbitrary values."
   ]
  },
  {
   "cell_type": "markdown",
   "id": "5a38d7ef-5481-47fd-88b9-46a7f8b7966c",
   "metadata": {},
   "source": [
    "## Queries"
   ]
  },
  {
   "cell_type": "markdown",
   "id": "cb87c1b5-0106-480f-a82b-76c3dd63aef3",
   "metadata": {},
   "source": [
    "Often, we want to make a query more `re-useable` and so we can distinguish between params and values!"
   ]
  },
  {
   "cell_type": "code",
   "execution_count": null,
   "id": "547ddb32-2d41-415d-a7b6-82a464815354",
   "metadata": {
    "tags": []
   },
   "outputs": [],
   "source": [
    "q = '''\n",
    "    from(bucket: stringParam)\n",
    "      |> range(start: -225m, stop: now())\n",
    "      |> filter(fn: (r) => r._measurement == \"myMeasurement\")\n",
    "'''\n",
    "\n",
    "p = {\n",
    "    \"stringParam\": \"myFirstBucket\",\n",
    "}\n",
    "\n"
   ]
  },
  {
   "cell_type": "code",
   "execution_count": null,
   "id": "0b838937-35fc-408d-8ec4-dec3316d6915",
   "metadata": {},
   "outputs": [],
   "source": [
    "result = query_api.query_data_frame(query=q, params=p)"
   ]
  },
  {
   "cell_type": "code",
   "execution_count": null,
   "id": "fccdf39d-f9da-4bc8-9cbd-8597c5719b7d",
   "metadata": {},
   "outputs": [],
   "source": [
    "result[0]"
   ]
  },
  {
   "cell_type": "markdown",
   "id": "6f781d45-19e4-4456-a809-0e450091f5ee",
   "metadata": {},
   "source": [
    "The _start and _stop timestamps are the timestamps that corresponds with the range() portion of your query"
   ]
  },
  {
   "cell_type": "markdown",
   "id": "1be8e918-3a0d-4e65-a596-7da6482c82c0",
   "metadata": {},
   "source": [
    "We see, that if we write multiple messages at exactly the same time, they will be overwritten!"
   ]
  },
  {
   "cell_type": "code",
   "execution_count": null,
   "id": "e50f39db-e971-4af5-88c9-48dd79b3b59c",
   "metadata": {},
   "outputs": [],
   "source": [
    "write_api.write(\"myFirstBucket\", \"primary\", [\"myMeasurement,location=coyote_creek water_level=4\"],write_precision=WritePrecision.MS)\n",
    "time.sleep(0.1)\n",
    "write_api.write(\"myFirstBucket\", \"primary\", [\"myMeasurement,location=coyote_creek water_level=2\"]) \n",
    "write_api.write(\"myFirstBucket\", \"primary\", [\"myMeasurement,location=coyote_creek water_level=3,temperature=9\"]) "
   ]
  },
  {
   "cell_type": "markdown",
   "id": "bcfd8341-15b6-4cd2-a9da-561663b66bb5",
   "metadata": {},
   "source": [
    "`For points that have the same measurement name, tag set, and timestamp, InfluxDB creates a union of the old and new field sets`"
   ]
  },
  {
   "cell_type": "code",
   "execution_count": null,
   "id": "834f6d97-fa77-49f5-a59d-e0d9b52cda93",
   "metadata": {},
   "outputs": [],
   "source": [
    "tables=query_api.query_data_frame('from(bucket:\"myFirstBucket\") \\\n",
    "                                  |> range(start: -10m)  \\\n",
    "                                  |> filter(fn: (r) => r._measurement == \"myMeasurement\") \\\n",
    "                                  |> filter(fn: (r) => r.location == \"coyote_creek\") \\\n",
    "                                  ')  #last 10 minutes\n",
    "\n",
    "tables"
   ]
  },
  {
   "cell_type": "markdown",
   "id": "f8af5430-6680-4e95-81ba-f9189d42befd",
   "metadata": {},
   "source": [
    "However, if a tag is different, then we do not have that behaviour!"
   ]
  },
  {
   "cell_type": "code",
   "execution_count": null,
   "id": "86b9e757-a949-4cae-b1a0-bb04f91c0a89",
   "metadata": {},
   "outputs": [],
   "source": [
    "write_api.write(\"myFirstBucket\", \"primary\", [\"myMeasurement,location=coyote_creek water_level=4\"])\n",
    "write_api.write(\"myFirstBucket\", \"primary\", [\"myMeasurement,location=other water_level=2\"]) "
   ]
  },
  {
   "cell_type": "code",
   "execution_count": null,
   "id": "a4876366-3d8e-42bc-9404-c0bcf071bbe8",
   "metadata": {},
   "outputs": [],
   "source": [
    "tables=query_api.query_data_frame('from(bucket:\"myFirstBucket\") |> range(start: -1m)  \\\n",
    "                                  |> filter(fn: (r) => r._measurement == \"myMeasurement\") \\\n",
    "                                  ')  #last 10 minutes\n",
    "\n",
    "tables"
   ]
  },
  {
   "cell_type": "markdown",
   "id": "9d582813-b2a4-4915-b21f-65d52e83c071",
   "metadata": {},
   "source": [
    "**More Complex Query**"
   ]
  },
  {
   "cell_type": "markdown",
   "id": "6bd9e99e-c846-46e1-9cf2-c15412a0f9df",
   "metadata": {},
   "source": [
    "With keep you can limit the number of fields - `keep` is similar to `select` in SQL"
   ]
  },
  {
   "cell_type": "code",
   "execution_count": null,
   "id": "f5e7699a-cd88-464a-9457-f85fba98085e",
   "metadata": {},
   "outputs": [],
   "source": [
    "tables=query_api.query_data_frame(\"\"\"\n",
    "                        from(bucket:\"myFirstBucket\") \n",
    "                        |> range(start: -2135m) \n",
    "                        |> filter(fn: (r) => r._measurement == \"myMeasurement\")\n",
    "                        |> filter(fn: (r) => r._field == \"temperature\")\n",
    "                        |> keep(columns:[\"_value\"])\n",
    "                        \"\"\")  \n",
    "\n",
    "tables"
   ]
  },
  {
   "cell_type": "code",
   "execution_count": null,
   "id": "68233bb5-5f4a-4463-a22e-b45105ede258",
   "metadata": {},
   "outputs": [],
   "source": [
    "tables=query_api.query_data_frame(\"\"\"\n",
    "                        from(bucket:\"myFirstBucket\") \n",
    "                        |> range(start: -215m) \n",
    "                        |> filter(fn: (r) => r._measurement == \"robotsensor\")\n",
    "                        |> filter(fn: (r) => r._field == \"temperature\")\n",
    "                        \"\"\")  "
   ]
  },
  {
   "cell_type": "markdown",
   "id": "2d4b0b81-4aac-4056-9599-a307481af0bc",
   "metadata": {},
   "source": [
    "Joins are also existing!"
   ]
  },
  {
   "cell_type": "code",
   "execution_count": null,
   "id": "eada6751-ab93-4fd4-bc15-82c493fa6cfb",
   "metadata": {},
   "outputs": [],
   "source": [
    "tables=query_api.query_data_frame(\"\"\"\n",
    "                        mymeasure=from(bucket:\"myFirstBucket\") \n",
    "                        |> range(start: -215m) \n",
    "                        |> filter(fn: (r) => r._measurement == \"myMeasurement\")\n",
    "                        |> filter(fn: (r) => r._field == \"temperature\")\n",
    "\n",
    "                        robotsensor=from(bucket:\"myFirstBucket\") \n",
    "                        |> range(start: -215m) \n",
    "                        |> filter(fn: (r) => r._measurement == \"robotsensor\")\n",
    "                        |> filter(fn: (r) => r._field == \"temperature\")\n",
    "                        \n",
    "                        \n",
    "                        join(tables: {mymeasure:mymeasure, robotsensor:robotsensor}, on: [\"_field\"], method: \"inner\")\n",
    "                        \"\"\")  \n",
    "\n",
    "tables[0]"
   ]
  },
  {
   "cell_type": "markdown",
   "id": "177604c2-8931-4ecb-a53e-599feaee09b4",
   "metadata": {},
   "source": [
    "Filtering for tags is also possible!"
   ]
  },
  {
   "cell_type": "code",
   "execution_count": null,
   "id": "67979c12-2014-4784-9523-1f8c5dca0fb5",
   "metadata": {},
   "outputs": [],
   "source": [
    "tables=query_api.query_data_frame(\"\"\"\n",
    "                        from(bucket:\"myFirstBucket\") \n",
    "                        |> range(start: -2135m) \n",
    "                        |> filter(fn: (r) => r._measurement == \"myMeasurement\")\n",
    "                        |> filter(fn: (r) => r.mytag == \"a_tag_value\")\n",
    "                        \"\"\")  \n",
    "\n",
    "tables"
   ]
  },
  {
   "cell_type": "markdown",
   "id": "f03525c7-47fb-4fc6-a524-1791fc1a2783",
   "metadata": {},
   "source": [
    "We can also create bins!"
   ]
  },
  {
   "cell_type": "code",
   "execution_count": null,
   "id": "3d416329-6baf-428d-9138-c53b476ba376",
   "metadata": {},
   "outputs": [],
   "source": [
    "my_query=\"\"\"from(bucket:\"myFirstBucket\") \n",
    "                        |> range(start: -2135m) \n",
    "                        |> filter(fn: (r) => r._measurement == \"myMeasurement\")\n",
    "                        |> filter(fn: (r) => r._field == \"temperature\")\n",
    "                        |> filter(fn: (r) => r.mytag == \"a_tag_value\")\n",
    "                        |> histogram(\n",
    "                            column: \"_value\",\n",
    "                            upperBoundColumn: \"le\",\n",
    "                            countColumn: \"_value\",\n",
    "                            bins: [100.0, 200.0, 300.0, 400.0],\n",
    "                          )\n",
    "                        \"\"\""
   ]
  },
  {
   "cell_type": "code",
   "execution_count": null,
   "id": "73a03b73-c6b7-4873-9ec8-1747465d443d",
   "metadata": {},
   "outputs": [],
   "source": [
    "query_api.query_data_frame(org=\"primary\",query=my_query)"
   ]
  },
  {
   "cell_type": "markdown",
   "id": "4040fb12-7ffd-4020-8b5a-c8445909fbde",
   "metadata": {},
   "source": [
    "cumulative distribution - `_value`"
   ]
  },
  {
   "cell_type": "markdown",
   "id": "211eab48-1866-4a56-b709-e02adc6edfaf",
   "metadata": {},
   "source": [
    "**Moving Average**"
   ]
  },
  {
   "cell_type": "code",
   "execution_count": null,
   "id": "25a62201-dec9-433f-aa32-751e89b3fceb",
   "metadata": {},
   "outputs": [],
   "source": [
    "tables=query_api.query_data_frame(\"\"\"from(bucket:\"myFirstBucket\") \n",
    "                        |> range(start: -4435m) \n",
    "                        |> filter(fn: (r) => r._measurement == \"myMeasurement\")\n",
    "                        |> filter(fn: (r) => r._field == \"temperature\")\n",
    "                        |> movingAverage(n:5)\n",
    "                        \"\"\")\n",
    "\n",
    "tables[3]"
   ]
  },
  {
   "cell_type": "markdown",
   "id": "f2bec00c-14ad-49cd-b4e3-16ac99ae6f6a",
   "metadata": {},
   "source": [
    "movingAverage() calculates the mean of non-null values using the current value and n - 1 previous values in the _values column."
   ]
  },
  {
   "cell_type": "code",
   "execution_count": null,
   "id": "a3dd835e-03b8-489b-bdf2-6d1f62a1adc1",
   "metadata": {},
   "outputs": [],
   "source": [
    "write_api.write(\"myFirstBucket\", \"primary\", [\"myMeasurement,mytag=a_tag_value temperature=4\"])"
   ]
  },
  {
   "cell_type": "markdown",
   "id": "9715c95f-7cce-477d-b2a3-3526c628dc31",
   "metadata": {},
   "source": [
    "## Super-Simple Exercises"
   ]
  },
  {
   "cell_type": "markdown",
   "id": "884dbb42-2dac-468e-b161-519c1921b7db",
   "metadata": {},
   "source": [
    "What does `fill` do?"
   ]
  },
  {
   "cell_type": "markdown",
   "id": "16ca86c0-dbad-4167-b131-74f995429470",
   "metadata": {},
   "source": [
    "What does `group` do?"
   ]
  },
  {
   "cell_type": "code",
   "execution_count": null,
   "id": "44a1d57d-bc09-4019-8f04-2f15f0819182",
   "metadata": {},
   "outputs": [],
   "source": [
    "# example with group\n",
    "write_api.write(\"myFirstBucket\", \"primary\", [\"myMeasurement,location=coyote_creek temperature=12\"]) \n"
   ]
  },
  {
   "cell_type": "code",
   "execution_count": null,
   "id": "9a0803a1-e61b-42bd-a65b-75436a43f00d",
   "metadata": {},
   "outputs": [],
   "source": [
    "write_api.write(\"myFirstBucket\", \"primary\", [\"myMeasurement,location=other temperature=15\"]) \n"
   ]
  },
  {
   "cell_type": "code",
   "execution_count": null,
   "id": "271646f3-c688-44eb-b578-e78e2fcf4c85",
   "metadata": {},
   "outputs": [],
   "source": [
    "write_api.write(\"myFirstBucket\", \"primary\", [\"myMeasurement,location=coyote_creek temperature=17\"]) \n"
   ]
  },
  {
   "cell_type": "code",
   "execution_count": null,
   "id": "cdd55b00-5fa6-489d-8ff6-354df93b487a",
   "metadata": {},
   "outputs": [],
   "source": [
    "write_api.write(\"myFirstBucket\", \"primary\", [\"myMeasurement,location=coyote_creek temperature=9\"]) "
   ]
  },
  {
   "cell_type": "code",
   "execution_count": null,
   "id": "042d0c5f-d13d-438c-a556-56362433eb1f",
   "metadata": {},
   "outputs": [],
   "source": [
    "tables=query_api.query_data_frame(\"\"\"from(bucket:\"myFirstBucket\") \n",
    "                        |> range(start: -5m) \n",
    "                        |> filter(fn: (r) => r._measurement == \"myMeasurement\")\n",
    "                        |> filter(fn: (r) => r._field == \"temperature\")\n",
    "                        \"\"\")\n",
    "\n",
    "tables #raw data"
   ]
  },
  {
   "cell_type": "code",
   "execution_count": null,
   "id": "2302f059-69bf-40f4-adff-5b560d4da91b",
   "metadata": {},
   "outputs": [],
   "source": [
    "tables=query_api.query_data_frame(\"\"\"from(bucket:\"myFirstBucket\") \n",
    "                        |> range(start: -5m) \n",
    "                        |> filter(fn: (r) => r._measurement == \"myMeasurement\")\n",
    "                        |> filter(fn: (r) => r._field == \"temperature\")\n",
    "                        |> group(columns: [\"location\"])\n",
    "                        |> mean()\n",
    "                        \"\"\")\n",
    "\n",
    "tables"
   ]
  },
  {
   "cell_type": "code",
   "execution_count": null,
   "id": "88a35e90-8583-484f-b83c-7de176c320eb",
   "metadata": {},
   "outputs": [],
   "source": [
    "#now, lets make a group by - having construct\n",
    "\n",
    "tables=query_api.query_data_frame(\"\"\"from(bucket:\"myFirstBucket\") \n",
    "                        |> range(start: -8m) \n",
    "                        |> filter(fn: (r) => r._measurement == \"myMeasurement\")\n",
    "                        |> filter(fn: (r) => r._field == \"temperature\")\n",
    "                        |> group(columns: [\"location\"])\n",
    "                        |> count()\n",
    "                        |> filter(fn: (r) => r._value>1)\n",
    "                        \"\"\")\n",
    "\n",
    "tables"
   ]
  },
  {
   "cell_type": "markdown",
   "id": "4308df1b-66a8-4fc1-9ce0-5d951b581eba",
   "metadata": {},
   "source": [
    "## Query Exercises"
   ]
  },
  {
   "cell_type": "markdown",
   "id": "898e6b3e-e396-45a6-bb69-3d22c06ff710",
   "metadata": {},
   "source": [
    "Write a Query that gets only the mean of the field `temperature`, ignore data older than 5 minutes. The aggregtion should ignore tags (drop)!"
   ]
  },
  {
   "cell_type": "code",
   "execution_count": null,
   "id": "d0875d4f-780c-436f-8801-89071225f4eb",
   "metadata": {},
   "outputs": [],
   "source": []
  },
  {
   "cell_type": "code",
   "execution_count": null,
   "id": "aad55f38-deca-4bc9-b0ef-dd4a645b45fa",
   "metadata": {},
   "outputs": [],
   "source": [
    "tables[0]"
   ]
  },
  {
   "cell_type": "markdown",
   "id": "5a4d6766-e9e0-4b10-99f0-e827ca81b112",
   "metadata": {},
   "source": [
    "Write a query that gets 1-minute windows (`aggregateWindow(every: 1m, fn: mean)`) of the field `temperature`, ignore windows that have no values (hint: use `filter` with `exists r._value`)!"
   ]
  },
  {
   "cell_type": "code",
   "execution_count": null,
   "id": "694ef958-7046-4f08-8eed-53d3122a47af",
   "metadata": {},
   "outputs": [],
   "source": []
  },
  {
   "cell_type": "markdown",
   "id": "f991530e-874e-48ae-9082-11b0182b7d04",
   "metadata": {},
   "source": [
    "Find the `temperature` peak of the last 60 minutes. Hint: use `max`"
   ]
  },
  {
   "cell_type": "code",
   "execution_count": null,
   "id": "cc34c2c3-8c09-4824-a173-a19e918041d1",
   "metadata": {},
   "outputs": [],
   "source": []
  },
  {
   "cell_type": "markdown",
   "id": "2ca6ad40-108b-4ebe-898c-05fe62d0b1a2",
   "metadata": {},
   "source": [
    "Find the three highest `temperatures`. Hint use `top`"
   ]
  },
  {
   "cell_type": "code",
   "execution_count": null,
   "id": "29f08209-ac3e-4030-a3e0-2dfc421d808f",
   "metadata": {},
   "outputs": [],
   "source": []
  },
  {
   "cell_type": "markdown",
   "id": "ce88c431-3b62-4602-ae89-91958663aedc",
   "metadata": {},
   "source": [
    "Find the `water_level` value of the value with the highest `temperatures` (hint: use `join` with  `_time` as join attribute)."
   ]
  },
  {
   "cell_type": "code",
   "execution_count": null,
   "id": "651e731e-5828-4a1e-9816-2f58b2e62aef",
   "metadata": {},
   "outputs": [],
   "source": [
    "write_api.write(\"myFirstBucket\", \"primary\", [\"myMeasurement,mytag=a_tag_value temperature=49,water_level=12\"])"
   ]
  },
  {
   "cell_type": "code",
   "execution_count": null,
   "id": "49a671dc-d0c0-44d1-9140-3d44289f1e88",
   "metadata": {},
   "outputs": [],
   "source": []
  },
  {
   "cell_type": "markdown",
   "id": "7e256e04-d525-4e9a-b324-b5b2e5894677",
   "metadata": {},
   "source": [
    "Convert the temperature to Fahreinheit (hint use ` |> map(fn: (r) => ({ r with _value: (r._value*9./5.)+32.}))`:)"
   ]
  },
  {
   "cell_type": "code",
   "execution_count": null,
   "id": "c7b78492-98e1-423f-a464-8660d25741f7",
   "metadata": {},
   "outputs": [],
   "source": []
  },
  {
   "cell_type": "markdown",
   "id": "4c4166f2-747a-4315-beea-55106bf20ce2",
   "metadata": {},
   "source": [
    "Flux also supports `high-level` functions to create e.g. histograms"
   ]
  },
  {
   "cell_type": "code",
   "execution_count": null,
   "id": "76b6c7b3-6147-4186-bf05-67a543e43e3a",
   "metadata": {},
   "outputs": [],
   "source": []
  },
  {
   "cell_type": "markdown",
   "id": "aa8c9f87-2c2e-4afa-b30f-d723249894cd",
   "metadata": {},
   "source": [
    "# Exercise\n",
    "\n",
    "**A**\n",
    "\n",
    "Create two MQTT Clients: one publisher and one subscriber.\n",
    "The publiblisher should publish values in an infinite loop. The subscriber subscribes to that values and stores them to InfluxDB.\n",
    "\n",
    "\n",
    "**B**\n",
    "\n",
    "Design: how to treate different topics? How should the topic structure be represented in MQTT? Look e.g.h [here](https://github.com/mhaas/mqtt-to-influxdb-forwarder)\n",
    "\n",
    "Try to implement it!\n"
   ]
  },
  {
   "cell_type": "markdown",
   "id": "792880fb-9023-4f07-b7f3-092589224b74",
   "metadata": {},
   "source": [
    "# Grafana"
   ]
  },
  {
   "cell_type": "markdown",
   "id": "d82adf23-e0a6-49a8-a606-b07b054c8a59",
   "metadata": {},
   "source": [
    "Start with the following query\n",
    "\n",
    "```\n",
    "from(bucket: \"myFirstBucket\")\n",
    "  |> range(start: -1115m)\n",
    "  |> filter(fn: (r) =>\n",
    "    r._measurement == \"myMeasurement\" and\n",
    "    r._field == \"temperature\"\n",
    "  )\n",
    "```"
   ]
  },
  {
   "cell_type": "markdown",
   "id": "00e36da9-bcb6-49e9-8115-c80410b0afe4",
   "metadata": {},
   "source": [
    "add multiple queries to Grafana!"
   ]
  },
  {
   "cell_type": "markdown",
   "id": "22a7ee92-e1db-4510-9958-ad687dbb6d33",
   "metadata": {},
   "source": [
    "Create a bar gauge showing the max temperature values by each tag `location`. Therefore, use `|> filter(fn: (r) => exists r.location)` in the query"
   ]
  },
  {
   "cell_type": "markdown",
   "id": "d5f68eea-1527-4848-9077-38d6d4119aa5",
   "metadata": {},
   "source": [
    "Use Grafanas time range instead of range: `range(start: v.timeRangeStart, stop:v.timeRangeStop)`"
   ]
  }
 ],
 "metadata": {
  "kernelspec": {
   "display_name": "Python 3 (ipykernel)",
   "language": "python",
   "name": "python3"
  },
  "language_info": {
   "codemirror_mode": {
    "name": "ipython",
    "version": 3
   },
   "file_extension": ".py",
   "mimetype": "text/x-python",
   "name": "python",
   "nbconvert_exporter": "python",
   "pygments_lexer": "ipython3",
   "version": "3.8.8"
  }
 },
 "nbformat": 4,
 "nbformat_minor": 5
}
