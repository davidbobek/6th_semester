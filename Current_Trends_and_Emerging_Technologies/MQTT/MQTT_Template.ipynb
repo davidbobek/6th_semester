{
 "cells": [
  {
   "cell_type": "code",
   "execution_count": 46,
   "id": "54930f27-c562-4f16-8584-bd13d1dae3b5",
   "metadata": {},
   "outputs": [
    {
     "name": "stdout",
     "output_type": "stream",
     "text": [
      "Defaulting to user installation because normal site-packages is not writeable\n",
      "Looking in indexes: https://artifactory.tttech.com/api/pypi/infrastructure.pypi/simple\n",
      "Requirement already satisfied: paho-mqtt==1.6.1 in /home/bobek/.local/lib/python3.11/site-packages (1.6.1)\n",
      "\n",
      "\u001b[1m[\u001b[0m\u001b[34;49mnotice\u001b[0m\u001b[1;39;49m]\u001b[0m\u001b[39;49m A new release of pip is available: \u001b[0m\u001b[31;49m23.3.1\u001b[0m\u001b[39;49m -> \u001b[0m\u001b[32;49m24.0\u001b[0m\n",
      "\u001b[1m[\u001b[0m\u001b[34;49mnotice\u001b[0m\u001b[1;39;49m]\u001b[0m\u001b[39;49m To update, run: \u001b[0m\u001b[32;49mpython3.11 -m pip install --upgrade pip\u001b[0m\n"
     ]
    }
   ],
   "source": [
    "!pip install paho-mqtt==1.6.1"
   ]
  },
  {
   "cell_type": "code",
   "execution_count": 47,
   "id": "d787092e-ecd1-4d99-9962-c689318e6d07",
   "metadata": {},
   "outputs": [],
   "source": [
    "import paho.mqtt.client as mqtt #basic mqtt utilities\n",
    "\n",
    "import time #for sleep\n",
    "\n",
    "import random # random\n",
    "\n",
    "import json #for json"
   ]
  },
  {
   "cell_type": "markdown",
   "id": "51fcf57d",
   "metadata": {},
   "source": [
    "Assume the following structure in MQTT:\n",
    "\n",
    "\n",
    "`robotcell1/temperature1=21`\n",
    "\n",
    "`robotcell1/temperature2=26`\n",
    "\n",
    "\n",
    "Simply create it in the broker by publishing to those topics.\n",
    "\n",
    "\n",
    "Create a client, that subscribes to them and publishes the average to `robotcell1/avgtemperature`\n"
   ]
  },
  {
   "cell_type": "code",
   "execution_count": 48,
   "id": "60f514b2",
   "metadata": {},
   "outputs": [],
   "source": [
    "'''\n",
    "Assume the following structure in MQTT:\n",
    "\n",
    "\n",
    "`robotcell1/temperature1=21`\n",
    "\n",
    "`robotcell1/temperature2=26`\n",
    "\n",
    "\n",
    "Simply create it in the broker by publishing to those topics.\n",
    "\n",
    "\n",
    "Create a client, that subscribes to them and publishes the average to `robotcell1/avgtemperature`\n",
    "\n",
    "'''\n",
    "\n",
    "\n",
    "\n",
    "temps = [0,0]\n",
    "\n",
    "def temp_msg(mosq, obj, msg):\n",
    "    print(\"received msg...\")\n",
    "    if(msg.topic.endswith(\"1\")):\n",
    "        temps[0]=msg.payload\n",
    "    if(msg.topic.endswith(\"2\")):\n",
    "        temps[1]=msg.payload\n",
    "        \n",
    "    avg = (float(temps[0])+float(temps[1]))/2.\n",
    "    # publish the average\n",
    "    avg_client.publish(\"robotcell1/avgtemperature\",avg)\n",
    "    print(\"published avg temp: \",avg)"
   ]
  },
  {
   "cell_type": "code",
   "execution_count": 49,
   "id": "952828e5",
   "metadata": {},
   "outputs": [
    {
     "data": {
      "text/plain": [
       "(0, 1)"
      ]
     },
     "execution_count": 49,
     "metadata": {},
     "output_type": "execute_result"
    }
   ],
   "source": [
    "avg_client=mqtt.Client(client_id=\"mqtt_client_345\",clean_session=True)\n",
    "avg_client.connect(\"localhost\")\n",
    "avg_client.loop_start()\n",
    "avg_client.on_message=temp_msg\n",
    "avg_client.subscribe([(\"robotcell1/temperature1\",0),(\"robotcell1/temperature2\",0)])\n",
    "#avg_client.subscribe(\"robotcell1/temperature1\")"
   ]
  },
  {
   "cell_type": "code",
   "execution_count": 50,
   "id": "48f2c451",
   "metadata": {},
   "outputs": [
    {
     "name": "stderr",
     "output_type": "stream",
     "text": [
      "Exception in thread Thread-13 (_thread_main):\n",
      "Traceback (most recent call last):\n",
      "  File \"/usr/lib/python3.11/threading.py\", line 1038, in _bootstrap_inner\n",
      "    self.run()\n",
      "  File \"/home/bobek/.local/lib/python3.11/site-packages/ipykernel/ipkernel.py\", line 761, in run_closure\n",
      "    _threading_Thread_run(self)\n",
      "  File \"/usr/lib/python3.11/threading.py\", line 975, in run\n",
      "    self._target(*self._args, **self._kwargs)\n",
      "  File \"/home/bobek/.local/lib/python3.11/site-packages/paho/mqtt/client.py\", line 3591, in _thread_main\n",
      "    self.loop_forever(retry_first_connection=True)\n",
      "  File \"/home/bobek/.local/lib/python3.11/site-packages/paho/mqtt/client.py\", line 1756, in loop_forever\n",
      "    rc = self._loop(timeout)\n",
      "         ^^^^^^^^^^^^^^^^^^^\n",
      "  File \"/home/bobek/.local/lib/python3.11/site-packages/paho/mqtt/client.py\", line 1164, in _loop\n",
      "    rc = self.loop_read()\n",
      "         ^^^^^^^^^^^^^^^^\n",
      "  File \"/home/bobek/.local/lib/python3.11/site-packages/paho/mqtt/client.py\", line 1556, in loop_read\n",
      "    rc = self._packet_read()\n",
      "         ^^^^^^^^^^^^^^^^^^^\n",
      "  File \"/home/bobek/.local/lib/python3.11/site-packages/paho/mqtt/client.py\", line 2439, in _packet_read\n",
      "    rc = self._packet_handle()\n",
      "         ^^^^^^^^^^^^^^^^^^^^^\n",
      "  File \"/home/bobek/.local/lib/python3.11/site-packages/paho/mqtt/client.py\", line 3033, in _packet_handle\n",
      "    return self._handle_publish()\n",
      "           ^^^^^^^^^^^^^^^^^^^^^^\n",
      "  File \"/home/bobek/.local/lib/python3.11/site-packages/paho/mqtt/client.py\", line 3327, in _handle_publish\n",
      "    self._handle_on_message(message)\n",
      "  File \"/home/bobek/.local/lib/python3.11/site-packages/paho/mqtt/client.py\", line 3570, in _handle_on_message\n",
      "    on_message(self, self._userdata, message)\n",
      "  File \"/tmp/ipykernel_45266/3810695655.py\", line 30, in temp_msg\n",
      "NameError: name 'client' is not defined\n"
     ]
    },
    {
     "name": "stdout",
     "output_type": "stream",
     "text": [
      "received msg...\n"
     ]
    }
   ],
   "source": [
    "avg_client.loop_stop()"
   ]
  }
 ],
 "metadata": {
  "kernelspec": {
   "display_name": "Python 3 (ipykernel)",
   "language": "python",
   "name": "python3"
  },
  "language_info": {
   "codemirror_mode": {
    "name": "ipython",
    "version": 3
   },
   "file_extension": ".py",
   "mimetype": "text/x-python",
   "name": "python",
   "nbconvert_exporter": "python",
   "pygments_lexer": "ipython3",
   "version": "3.11.4"
  }
 },
 "nbformat": 4,
 "nbformat_minor": 5
}
