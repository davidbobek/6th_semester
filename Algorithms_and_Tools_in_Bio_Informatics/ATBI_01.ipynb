{
  "cells": [
    {
      "cell_type": "markdown",
      "metadata": {
        "id": "SS_bBO8AeRI6"
      },
      "source": [
        "# 01_ATBI\n",
        "## Modern File Formats\n"
      ]
    },
    {
      "cell_type": "markdown",
      "metadata": {
        "id": "oQtkuJWYcuWS"
      },
      "source": [
        "### Metadata"
      ]
    },
    {
      "cell_type": "code",
      "execution_count": null,
      "metadata": {
        "id": "xiNAkdoRVCNA"
      },
      "outputs": [],
      "source": [
        "# Packages\n",
        "# If error in pyvcf, execute the following:\n",
        "!pip install \"setuptools<58\" --upgrade\n",
        "!pip install pandas numpy scipy biopython pysam htseq dendropy scikit-learn seaborn sequana-fastqc matplotlib==3.2.2 seqlogo pyvcf IPython"
      ]
    },
    {
      "cell_type": "code",
      "execution_count": 5,
      "metadata": {
        "id": "SvndCqSQVMZC"
      },
      "outputs": [],
      "source": [
        "# Imports\n",
        "import os\n",
        "import pandas as pd\n",
        "import numpy as np\n",
        "import matplotlib.pyplot as plt\n",
        "import seaborn as sns"
      ]
    },
    {
      "cell_type": "code",
      "execution_count": 6,
      "metadata": {
        "id": "bP2aj5EeVM3a"
      },
      "outputs": [],
      "source": [
        "# Directory information\n",
        "## if not working -> View > Table of contents > folder icon (Files) -> Mount Drive\n",
        "base_dir = \"/content/drive/MyDrive/ATBI_2024/ATBI_1/\"\n",
        "data_dir = base_dir + \"data/\""
      ]
    },
    {
      "cell_type": "code",
      "execution_count": 7,
      "metadata": {
        "id": "e1eUULxIWpNh"
      },
      "outputs": [],
      "source": [
        "# Filenames\n",
        "fasta = \"ABL_GENE.fa\"\n",
        "fastq = \"single_end.fastq\"\n",
        "sam = \"sam_file.sam\"\n",
        "vcf_file = \"ALL.chrY.genome_strip_hq.20101123.svs.low_coverage.genotypes.vcf\""
      ]
    },
    {
      "cell_type": "code",
      "execution_count": 8,
      "metadata": {
        "id": "E1J5CQPzeRuT"
      },
      "outputs": [],
      "source": [
        "# Other\n",
        "ref = \"CACGGACATCACCATGAAGCACAAGCTGGGCGGGGGCCAGTACGGGGAGGTGTACGAGGGCGTGTGGAAGAAATACAGCCTGACGGTGGCCGTGAAGACCTTGAAGGAGGACACCATGGAGGTGGAAGAGTTCTTGAAAGAAGCTGCAGTCATGAAAGAGATCAAACACCCTAACCTGGTGCAGCTCCTTGGGGTCTGCACCCGGGAGCCCCCGTTCTATATCATCACTGAGTTCATGACCTACGGGAACCTCCTGGACTACCTGAGGGAGTGCAACCGGCAGGAGGTGAACGCCGTGGTGCTGCTGTACATGGCCACTCAGATCTCGTCAGCCATGGAGTACCTGGAGAAGAAAAACTTCATCCACAGAGATCTTGCTGCCCGAAACTGCCTGGTAGGGGAGAACCACTTGGTGAAGGTAGCTGATTTTGGCCTGAGCAGGTTGATGACAGGGGACACCTACACAGCCCATGCTGGAGCCAAGTTCCCCATCAAATGGACTGCACCC\""
      ]
    },
    {
      "cell_type": "markdown",
      "metadata": {
        "id": "dULRBLHlekCM"
      },
      "source": [
        "### 1. FASTA"
      ]
    },
    {
      "cell_type": "code",
      "execution_count": null,
      "metadata": {
        "id": "AA5mhjMSWtLy"
      },
      "outputs": [],
      "source": [
        "from Bio import SeqIO, Seq\n",
        "\n",
        "# read FASTA file\n"
      ]
    },
    {
      "cell_type": "code",
      "execution_count": null,
      "metadata": {
        "id": "wTuEp7uiW0WY"
      },
      "outputs": [],
      "source": [
        "# store as DNA\n"
      ]
    },
    {
      "cell_type": "code",
      "execution_count": 15,
      "metadata": {
        "colab": {
          "base_uri": "https://localhost:8080/",
          "height": 505
        },
        "id": "QpkdauilcAJ4",
        "outputId": "0634108d-5bb1-4f69-ab89-610e064b5a4f"
      },
      "outputs": [
        {
          "output_type": "display_data",
          "data": {
            "text/plain": [
              "<IPython.core.display.HTML object>"
            ],
            "text/html": [
              "<iframe src=\"https://drive.google.com/file/d/1GVh5J5RovDDJPR2U4GVpKfAkxWBihnhn/preview\" width=\"640\" height=\"480\" allow=\"autoplay\"></iframe>\n"
            ]
          },
          "metadata": {}
        }
      ],
      "source": [
        "# Reminder:\n",
        "from IPython.display import Image, display\n",
        "\n",
        "display(Image(base_dir + \"/images/ProteinBiosynthesis.png\"))"
      ]
    },
    {
      "cell_type": "code",
      "execution_count": null,
      "metadata": {
        "id": "koycfh7UW9iB"
      },
      "outputs": [],
      "source": [
        "# transkribe into RNA\n"
      ]
    },
    {
      "cell_type": "code",
      "execution_count": null,
      "metadata": {
        "id": "tvWOAG3AaYBU"
      },
      "outputs": [],
      "source": [
        "# translate into amino acid sequence\n"
      ]
    },
    {
      "cell_type": "code",
      "execution_count": null,
      "metadata": {
        "colab": {
          "base_uri": "https://localhost:8080/",
          "height": 504
        },
        "id": "my16hxo-acQM",
        "outputId": "ec514853-90b5-4e4e-9a46-bd569342db98"
      },
      "outputs": [
        {
          "data": {
            "text/html": [
              "<iframe src=\"https://drive.google.com/file/d/15-8dxduD1bKs5VGflOTD78-8i_Mmu7nW/preview\" width=\"640\" height=\"480\" allow=\"autoplay\"></iframe>"
            ],
            "text/plain": [
              "<IPython.core.display.HTML object>"
            ]
          },
          "metadata": {},
          "output_type": "display_data"
        }
      ],
      "source": [
        "# Reminder: Genetic Code\n",
        "\n",
        "display(Image(base_dir + \"/images/GeneticCode.jpg\"))"
      ]
    },
    {
      "cell_type": "markdown",
      "metadata": {
        "id": "bz32J4CDec45"
      },
      "source": [
        "### 2. FASTQ"
      ]
    },
    {
      "cell_type": "code",
      "execution_count": null,
      "metadata": {
        "id": "uNgS6SDXcIJK"
      },
      "outputs": [],
      "source": [
        "# read FASTQ file\n",
        "\n",
        ""
      ]
    },
    {
      "cell_type": "code",
      "execution_count": null,
      "metadata": {
        "id": "x5TPhsaAfVWN"
      },
      "outputs": [],
      "source": [
        "# print sequence information\n"
      ]
    },
    {
      "cell_type": "code",
      "execution_count": null,
      "metadata": {
        "id": "Hij_KkgHfVLm"
      },
      "outputs": [],
      "source": [
        "# Quality analysis: FastQC in Python using Sequana-FastQC\n",
        "from sequana import FastQC, PacbioSubreads\n",
        "\n"
      ]
    },
    {
      "cell_type": "code",
      "execution_count": null,
      "metadata": {
        "id": "BWAfwJ_sBNLB"
      },
      "outputs": [],
      "source": [
        "# collect sequences\n",
        "seqs = []\n"
      ]
    },
    {
      "cell_type": "code",
      "execution_count": null,
      "metadata": {
        "id": "3QWUgHhwfhOY"
      },
      "outputs": [],
      "source": [
        "# sequence alignment (simple example)\n",
        "s1 = seqs[0]\n",
        "s2 = seqs[1]\n",
        "\n",
        "\n"
      ]
    },
    {
      "cell_type": "code",
      "execution_count": null,
      "metadata": {
        "id": "6mp7k2BkBqmL"
      },
      "outputs": [],
      "source": [
        "# translation and sequence alignment\n"
      ]
    },
    {
      "cell_type": "code",
      "execution_count": null,
      "metadata": {
        "id": "HK6bTqJwIkA-"
      },
      "outputs": [],
      "source": [
        "### FastQC"
      ]
    },
    {
      "cell_type": "markdown",
      "metadata": {
        "id": "SNoxAgpNl0ge"
      },
      "source": [
        "### 3. SAM/BAM"
      ]
    },
    {
      "cell_type": "code",
      "execution_count": null,
      "metadata": {
        "id": "rCym6W45ij1V"
      },
      "outputs": [],
      "source": [
        "import pysam\n",
        "\n",
        "# read SAM file\n"
      ]
    },
    {
      "cell_type": "code",
      "execution_count": null,
      "metadata": {
        "id": "gyEjjRU0i4O0"
      },
      "outputs": [],
      "source": [
        "# store SAM file in pandas dataframe\n",
        "columns = [\"QNAME\", \"FLAG\", \"RNAME\", \"POS\", \"MAPQ\", \"CIGAR\", \"RNEXT\", \"PNEXT\", \"TLEN\", \"SEQ\", \"QUAL\", \"AS: alignment score\", \"XN: number of ambiguous bases\", \"XM: number of mismatches\", \"XO: number of gap opens\", \"XG: number of gap extensions\", \"NM: edit distance\", \"MD: string representation of the mismatched reference bases\", \"YT: UU indicates the read was not part of a pair\" ]\n"
      ]
    },
    {
      "cell_type": "code",
      "execution_count": null,
      "metadata": {
        "id": "VyaaXDzUoGz-"
      },
      "outputs": [],
      "source": [
        "# print SAM dataframe\n",
        "df_sam\n"
      ]
    },
    {
      "cell_type": "code",
      "execution_count": null,
      "metadata": {
        "id": "YfpOVyWrpWz6"
      },
      "outputs": [],
      "source": [
        "# File conversion: SAM to BAM\n",
        "\n"
      ]
    },
    {
      "cell_type": "code",
      "execution_count": null,
      "metadata": {
        "id": "hAWSeDTmsoVB"
      },
      "outputs": [],
      "source": [
        "from sequana import BAM\n",
        "\n",
        "# plot BAM information\n"
      ]
    },
    {
      "cell_type": "code",
      "execution_count": null,
      "metadata": {
        "id": "zQlfhKAKuB4A"
      },
      "outputs": [],
      "source": [
        "# Point Mutation Analysis with Position Weight Matrix\n",
        "from collections import Counter\n"
      ]
    },
    {
      "cell_type": "code",
      "execution_count": null,
      "metadata": {
        "id": "soDctK8PxSGJ"
      },
      "outputs": [],
      "source": [
        "# add colnames to pwm\n"
      ]
    },
    {
      "cell_type": "code",
      "execution_count": null,
      "metadata": {
        "id": "c65sZ7I9IbHn"
      },
      "outputs": [],
      "source": [
        "### IGV: Integrative Genomics Viewer"
      ]
    },
    {
      "cell_type": "markdown",
      "metadata": {
        "id": "FCDz0NcQcjDA"
      },
      "source": [
        "### 4. VCF"
      ]
    },
    {
      "cell_type": "code",
      "execution_count": null,
      "metadata": {
        "id": "XUuqhaatcjyi"
      },
      "outputs": [],
      "source": [
        "# using vcfpy\n",
        "import vcf\n",
        "\n",
        "# read VCF file\n"
      ]
    },
    {
      "cell_type": "code",
      "execution_count": null,
      "metadata": {
        "id": "JKAJQRPqWwWS"
      },
      "outputs": [],
      "source": [
        "# collect records\n"
      ]
    },
    {
      "cell_type": "code",
      "execution_count": null,
      "metadata": {
        "id": "vh5MiBIlxOTx"
      },
      "outputs": [],
      "source": [
        "for record in records:\n",
        "  print(\"Record:\\t\" + str(record))\n",
        "  print(\"Chromosome:\\t\" + record.CHROM)\n",
        "  print(\"Reference Sequence:\\t\" + str(record.POS))\n",
        "  print(\"Reference Sequence:\\t\" + record.REF)\n",
        "  print(\"Deletion?\\t\" + str(record.is_deletion))\n",
        "  print(\"InDel?\\t\" + str(record.is_indel))\n",
        "  print(\"Is SNP?\\t\" + str(record.is_snp))\n",
        "  print(\"Alternate allele frequency:\\t\" + str(record.aaf))\n",
        "\n",
        "  break\n",
        ""
      ]
    },
    {
      "cell_type": "code",
      "execution_count": null,
      "metadata": {
        "id": "j4Q3J-ulXkBq"
      },
      "outputs": [],
      "source": [
        "# using pysam\n",
        "v2 = pysam.VariantFile(data_dir + vcf_file)\n",
        "\n",
        "# collect records\n",
        "records2 = []\n",
        "for i in v2.fetch():\n",
        "  records2.append(i)"
      ]
    },
    {
      "cell_type": "code",
      "execution_count": null,
      "metadata": {
        "id": "RAkdEHOmXz6v"
      },
      "outputs": [],
      "source": [
        "for record in records2:\n",
        "  print(\"Record:\\t\" + str(record))\n",
        "  print(\"Chromosome:\\t\" + record.crom)\n",
        "  print(\"Reference Sequence:\\t\" + str(record.pos))\n",
        "  break"
      ]
    },
    {
      "cell_type": "code",
      "execution_count": null,
      "metadata": {
        "id": "UW-EObCExvGO"
      },
      "outputs": [],
      "source": [
        "# collect alternate allele frequencies\n"
      ]
    },
    {
      "cell_type": "code",
      "execution_count": null,
      "metadata": {
        "id": "405K7VcUygf1"
      },
      "outputs": [],
      "source": [
        "# plot aafs\n"
      ]
    },
    {
      "cell_type": "code",
      "execution_count": null,
      "metadata": {
        "id": "qHsY9juNZ_rF"
      },
      "outputs": [],
      "source": [
        "### Galaxy Tools"
      ]
    },
    {
      "cell_type": "markdown",
      "metadata": {
        "id": "gThZNGCPccee"
      },
      "source": [
        "### 5. PDB"
      ]
    },
    {
      "cell_type": "code",
      "execution_count": null,
      "metadata": {
        "id": "Km99Rlsqp_RA"
      },
      "outputs": [],
      "source": [
        "from Bio import PDB"
      ]
    },
    {
      "cell_type": "code",
      "execution_count": null,
      "metadata": {
        "id": "zAPwSwr3qH5j"
      },
      "outputs": [],
      "source": [
        "# download PDB files\n"
      ]
    },
    {
      "cell_type": "code",
      "execution_count": null,
      "metadata": {
        "id": "A8zldVVGqH3D"
      },
      "outputs": [],
      "source": [
        "# parse PDB files\n"
      ]
    },
    {
      "cell_type": "markdown",
      "metadata": {
        "id": "4dvyDtBys7xl"
      },
      "source": [
        "Meta information about PDB files"
      ]
    },
    {
      "cell_type": "code",
      "execution_count": null,
      "metadata": {
        "id": "cq2o8H8tqHz9"
      },
      "outputs": [],
      "source": [
        "# 4HHB\n"
      ]
    },
    {
      "cell_type": "code",
      "execution_count": null,
      "metadata": {
        "id": "ige8Q41qqHxh"
      },
      "outputs": [],
      "source": [
        "# 1MBN\n",
        "[print(x + str(\":\\t\") + str(pdb2.header[x])) for x in pdb2.header]"
      ]
    },
    {
      "cell_type": "code",
      "execution_count": null,
      "metadata": {
        "id": "X60QFDBdqHt2"
      },
      "outputs": [],
      "source": [
        "# 1EMY\n",
        "[print(x + str(\":\\t\") + str(pdb3.header[x])) for x in pdb3.header]"
      ]
    },
    {
      "cell_type": "code",
      "execution_count": null,
      "metadata": {
        "id": "N4VP0BYmqHrE"
      },
      "outputs": [],
      "source": [
        "# Structures\n",
        "pdbs = {\"4HHB\" : pdb1,\n",
        "        \"1MBN\" : pdb2,\n",
        "        \"1EMY\" : pdb2}\n",
        "for key in pdbs.keys():\n",
        "  for structure in pdbs[key]:\n",
        "    for chain in structure:\n",
        "      print(key + \":\\tChain \" + str(chain.id) + \"\\tNumber of residues: \" + str(len(list(chain.get_residues()))) + \"\\tNumber of Atoms: \" + str(len(list(chain.get_atoms()))) )\n",
        "    print()\n"
      ]
    },
    {
      "cell_type": "code",
      "execution_count": null,
      "metadata": {
        "id": "bvOqATxfwa6G"
      },
      "outputs": [],
      "source": [
        "# Residues\n",
        "for i, res in enumerate(pdbs[\"4HHB\"][0][\"A\"].get_residues()):\n",
        "  print(pdbs[\"4HHB\"][0][\"A\"][i+1])\n",
        "  for atom in res:\n",
        "    print(atom, atom.serial_number, atom.element)\n",
        "\n",
        "  if i > 3:\n",
        "    break\n"
      ]
    },
    {
      "cell_type": "code",
      "execution_count": null,
      "metadata": {
        "id": "d6E64z-HyuGF"
      },
      "outputs": [],
      "source": [
        "# FASTA Sequence\n",
        "# a)\n",
        "d3to1 = {'CYS': 'C', 'ASP': 'D', 'SER': 'S', 'GLN': 'Q', 'LYS': 'K',\n",
        " 'ILE': 'I', 'PRO': 'P', 'THR': 'T', 'PHE': 'F', 'ASN': 'N',\n",
        " 'GLY': 'G', 'HIS': 'H', 'LEU': 'L', 'ARG': 'R', 'TRP': 'W',\n",
        " 'ALA': 'A', 'VAL':'V', 'GLU': 'E', 'TYR': 'Y', 'MET': 'M'}\n",
        "\n",
        "for key in pdbs.keys():\n",
        "  for structure in pdbs[key]:\n",
        "    for chain in structure:\n",
        "      seq = \"\"\n",
        "      for res in chain.get_residues():\n",
        "        if res.get_resname() in d3to1.keys():\n",
        "          seq += d3to1[res.get_resname()]\n",
        "      print(key + \":\\tChain \" + str(chain.id) + \" \" + seq)\n",
        "    print()\n"
      ]
    },
    {
      "cell_type": "code",
      "execution_count": null,
      "metadata": {
        "id": "En01CLpdapfq"
      },
      "outputs": [],
      "source": [
        "### pymol"
      ]
    }
  ],
  "metadata": {
    "colab": {
      "provenance": []
    },
    "kernelspec": {
      "display_name": "Python 3 (ipykernel)",
      "language": "python",
      "name": "python3"
    },
    "language_info": {
      "codemirror_mode": {
        "name": "ipython",
        "version": 3
      },
      "file_extension": ".py",
      "mimetype": "text/x-python",
      "name": "python",
      "nbconvert_exporter": "python",
      "pygments_lexer": "ipython3",
      "version": "3.9.0"
    }
  },
  "nbformat": 4,
  "nbformat_minor": 0
}